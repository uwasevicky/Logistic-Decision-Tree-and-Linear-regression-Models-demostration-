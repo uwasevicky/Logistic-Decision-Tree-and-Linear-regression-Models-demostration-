{
 "cells": [
  {
   "cell_type": "markdown",
   "id": "9bc028b6",
   "metadata": {},
   "source": [
    "# Python libraries"
   ]
  },
  {
   "cell_type": "code",
   "execution_count": 1,
   "id": "d176015a",
   "metadata": {},
   "outputs": [],
   "source": [
    "#Libralies\n",
    "import statistics\n",
    "from scipy import stats\n",
    "from scipy.stats import sem\n",
    "from scipy.stats import ttest_ind_from_stats\n",
    "from scipy.stats import pearsonr\n",
    "import statsmodels.api as sm\n",
    "import pandas as pd\n",
    "import numpy as np\n",
    "import math \n",
    "from matplotlib import pyplot as plt\n",
    "import warnings \n",
    "from sklearn.linear_model import LinearRegression\n",
    "import seaborn as sns\n",
    "from sklearn.model_selection import train_test_split\n",
    "from sklearn.metrics import mean_squared_error,r2_score,confusion_matrix\n",
    "from mlxtend.feature_selection import SequentialFeatureSelector as sfs\n",
    "from mlxtend.plotting import plot_sequential_feature_selection as plot_sfs\n",
    "from tabulate import tabulate\n",
    "\n",
    "from sklearn.preprocessing import LabelEncoder,StandardScaler\n",
    "from sklearn.linear_model import LogisticRegression, Lasso\n",
    "from mlxtend.plotting import plot_confusion_matrix\n",
    "from sklearn.tree import DecisionTreeClassifier, plot_tree \n",
    "from sklearn.model_selection import KFold, cross_val_score\n",
    "from sklearn.neighbors import KNeighborsClassifier\n",
    "from sklearn.neighbors import KNeighborsRegressor\n",
    "from sklearn.model_selection import GridSearchCV\n",
    "from sklearn.metrics import mean_squared_error\n",
    "\n",
    "warnings.filterwarnings('ignore')#ignoring warnings"
   ]
  },
  {
   "cell_type": "markdown",
   "id": "d6afcac6",
   "metadata": {},
   "source": [
    "# Question 2.3"
   ]
  },
  {
   "cell_type": "code",
   "execution_count": 2,
   "id": "fb3f9bb1",
   "metadata": {},
   "outputs": [
    {
     "data": {
      "text/html": [
       "<div>\n",
       "<style scoped>\n",
       "    .dataframe tbody tr th:only-of-type {\n",
       "        vertical-align: middle;\n",
       "    }\n",
       "\n",
       "    .dataframe tbody tr th {\n",
       "        vertical-align: top;\n",
       "    }\n",
       "\n",
       "    .dataframe thead th {\n",
       "        text-align: right;\n",
       "    }\n",
       "</style>\n",
       "<table border=\"1\" class=\"dataframe\">\n",
       "  <thead>\n",
       "    <tr style=\"text-align: right;\">\n",
       "      <th></th>\n",
       "      <th>pclass</th>\n",
       "      <th>survived</th>\n",
       "      <th>name</th>\n",
       "      <th>sex</th>\n",
       "      <th>age</th>\n",
       "      <th>sibsp</th>\n",
       "      <th>parch</th>\n",
       "      <th>ticket</th>\n",
       "      <th>fare</th>\n",
       "      <th>cabin</th>\n",
       "      <th>embarked</th>\n",
       "      <th>boat</th>\n",
       "      <th>body</th>\n",
       "      <th>home.dest</th>\n",
       "    </tr>\n",
       "  </thead>\n",
       "  <tbody>\n",
       "    <tr>\n",
       "      <th>0</th>\n",
       "      <td>1</td>\n",
       "      <td>1</td>\n",
       "      <td>Allen, Miss. Elisabeth Walton</td>\n",
       "      <td>female</td>\n",
       "      <td>29.00</td>\n",
       "      <td>0</td>\n",
       "      <td>0</td>\n",
       "      <td>24160</td>\n",
       "      <td>211.3375</td>\n",
       "      <td>B5</td>\n",
       "      <td>S</td>\n",
       "      <td>2</td>\n",
       "      <td>NaN</td>\n",
       "      <td>St Louis, MO</td>\n",
       "    </tr>\n",
       "    <tr>\n",
       "      <th>1</th>\n",
       "      <td>1</td>\n",
       "      <td>1</td>\n",
       "      <td>Allison, Master. Hudson Trevor</td>\n",
       "      <td>male</td>\n",
       "      <td>0.92</td>\n",
       "      <td>1</td>\n",
       "      <td>2</td>\n",
       "      <td>113781</td>\n",
       "      <td>151.5500</td>\n",
       "      <td>C22 C26</td>\n",
       "      <td>S</td>\n",
       "      <td>11</td>\n",
       "      <td>NaN</td>\n",
       "      <td>Montreal, PQ / Chesterville, ON</td>\n",
       "    </tr>\n",
       "    <tr>\n",
       "      <th>2</th>\n",
       "      <td>1</td>\n",
       "      <td>0</td>\n",
       "      <td>Allison, Miss. Helen Loraine</td>\n",
       "      <td>female</td>\n",
       "      <td>2.00</td>\n",
       "      <td>1</td>\n",
       "      <td>2</td>\n",
       "      <td>113781</td>\n",
       "      <td>151.5500</td>\n",
       "      <td>C22 C26</td>\n",
       "      <td>S</td>\n",
       "      <td>NaN</td>\n",
       "      <td>NaN</td>\n",
       "      <td>Montreal, PQ / Chesterville, ON</td>\n",
       "    </tr>\n",
       "    <tr>\n",
       "      <th>3</th>\n",
       "      <td>1</td>\n",
       "      <td>0</td>\n",
       "      <td>Allison, Mr. Hudson Joshua Creighton</td>\n",
       "      <td>male</td>\n",
       "      <td>30.00</td>\n",
       "      <td>1</td>\n",
       "      <td>2</td>\n",
       "      <td>113781</td>\n",
       "      <td>151.5500</td>\n",
       "      <td>C22 C26</td>\n",
       "      <td>S</td>\n",
       "      <td>NaN</td>\n",
       "      <td>135.0</td>\n",
       "      <td>Montreal, PQ / Chesterville, ON</td>\n",
       "    </tr>\n",
       "    <tr>\n",
       "      <th>4</th>\n",
       "      <td>1</td>\n",
       "      <td>0</td>\n",
       "      <td>Allison, Mrs. Hudson J C (Bessie Waldo Daniels)</td>\n",
       "      <td>female</td>\n",
       "      <td>25.00</td>\n",
       "      <td>1</td>\n",
       "      <td>2</td>\n",
       "      <td>113781</td>\n",
       "      <td>151.5500</td>\n",
       "      <td>C22 C26</td>\n",
       "      <td>S</td>\n",
       "      <td>NaN</td>\n",
       "      <td>NaN</td>\n",
       "      <td>Montreal, PQ / Chesterville, ON</td>\n",
       "    </tr>\n",
       "    <tr>\n",
       "      <th>...</th>\n",
       "      <td>...</td>\n",
       "      <td>...</td>\n",
       "      <td>...</td>\n",
       "      <td>...</td>\n",
       "      <td>...</td>\n",
       "      <td>...</td>\n",
       "      <td>...</td>\n",
       "      <td>...</td>\n",
       "      <td>...</td>\n",
       "      <td>...</td>\n",
       "      <td>...</td>\n",
       "      <td>...</td>\n",
       "      <td>...</td>\n",
       "      <td>...</td>\n",
       "    </tr>\n",
       "    <tr>\n",
       "      <th>1304</th>\n",
       "      <td>3</td>\n",
       "      <td>0</td>\n",
       "      <td>Zabour, Miss. Hileni</td>\n",
       "      <td>female</td>\n",
       "      <td>14.50</td>\n",
       "      <td>1</td>\n",
       "      <td>0</td>\n",
       "      <td>2665</td>\n",
       "      <td>14.4542</td>\n",
       "      <td>NaN</td>\n",
       "      <td>C</td>\n",
       "      <td>NaN</td>\n",
       "      <td>328.0</td>\n",
       "      <td>NaN</td>\n",
       "    </tr>\n",
       "    <tr>\n",
       "      <th>1305</th>\n",
       "      <td>3</td>\n",
       "      <td>0</td>\n",
       "      <td>Zabour, Miss. Thamine</td>\n",
       "      <td>female</td>\n",
       "      <td>NaN</td>\n",
       "      <td>1</td>\n",
       "      <td>0</td>\n",
       "      <td>2665</td>\n",
       "      <td>14.4542</td>\n",
       "      <td>NaN</td>\n",
       "      <td>C</td>\n",
       "      <td>NaN</td>\n",
       "      <td>NaN</td>\n",
       "      <td>NaN</td>\n",
       "    </tr>\n",
       "    <tr>\n",
       "      <th>1306</th>\n",
       "      <td>3</td>\n",
       "      <td>0</td>\n",
       "      <td>Zakarian, Mr. Mapriededer</td>\n",
       "      <td>male</td>\n",
       "      <td>26.50</td>\n",
       "      <td>0</td>\n",
       "      <td>0</td>\n",
       "      <td>2656</td>\n",
       "      <td>7.2250</td>\n",
       "      <td>NaN</td>\n",
       "      <td>C</td>\n",
       "      <td>NaN</td>\n",
       "      <td>304.0</td>\n",
       "      <td>NaN</td>\n",
       "    </tr>\n",
       "    <tr>\n",
       "      <th>1307</th>\n",
       "      <td>3</td>\n",
       "      <td>0</td>\n",
       "      <td>Zakarian, Mr. Ortin</td>\n",
       "      <td>male</td>\n",
       "      <td>27.00</td>\n",
       "      <td>0</td>\n",
       "      <td>0</td>\n",
       "      <td>2670</td>\n",
       "      <td>7.2250</td>\n",
       "      <td>NaN</td>\n",
       "      <td>C</td>\n",
       "      <td>NaN</td>\n",
       "      <td>NaN</td>\n",
       "      <td>NaN</td>\n",
       "    </tr>\n",
       "    <tr>\n",
       "      <th>1308</th>\n",
       "      <td>3</td>\n",
       "      <td>0</td>\n",
       "      <td>Zimmerman, Mr. Leo</td>\n",
       "      <td>male</td>\n",
       "      <td>29.00</td>\n",
       "      <td>0</td>\n",
       "      <td>0</td>\n",
       "      <td>315082</td>\n",
       "      <td>7.8750</td>\n",
       "      <td>NaN</td>\n",
       "      <td>S</td>\n",
       "      <td>NaN</td>\n",
       "      <td>NaN</td>\n",
       "      <td>NaN</td>\n",
       "    </tr>\n",
       "  </tbody>\n",
       "</table>\n",
       "<p>1309 rows × 14 columns</p>\n",
       "</div>"
      ],
      "text/plain": [
       "      pclass  survived                                             name  \\\n",
       "0          1         1                    Allen, Miss. Elisabeth Walton   \n",
       "1          1         1                   Allison, Master. Hudson Trevor   \n",
       "2          1         0                     Allison, Miss. Helen Loraine   \n",
       "3          1         0             Allison, Mr. Hudson Joshua Creighton   \n",
       "4          1         0  Allison, Mrs. Hudson J C (Bessie Waldo Daniels)   \n",
       "...      ...       ...                                              ...   \n",
       "1304       3         0                             Zabour, Miss. Hileni   \n",
       "1305       3         0                            Zabour, Miss. Thamine   \n",
       "1306       3         0                        Zakarian, Mr. Mapriededer   \n",
       "1307       3         0                              Zakarian, Mr. Ortin   \n",
       "1308       3         0                               Zimmerman, Mr. Leo   \n",
       "\n",
       "         sex    age  sibsp  parch  ticket      fare    cabin embarked boat  \\\n",
       "0     female  29.00      0      0   24160  211.3375       B5        S    2   \n",
       "1       male   0.92      1      2  113781  151.5500  C22 C26        S   11   \n",
       "2     female   2.00      1      2  113781  151.5500  C22 C26        S  NaN   \n",
       "3       male  30.00      1      2  113781  151.5500  C22 C26        S  NaN   \n",
       "4     female  25.00      1      2  113781  151.5500  C22 C26        S  NaN   \n",
       "...      ...    ...    ...    ...     ...       ...      ...      ...  ...   \n",
       "1304  female  14.50      1      0    2665   14.4542      NaN        C  NaN   \n",
       "1305  female    NaN      1      0    2665   14.4542      NaN        C  NaN   \n",
       "1306    male  26.50      0      0    2656    7.2250      NaN        C  NaN   \n",
       "1307    male  27.00      0      0    2670    7.2250      NaN        C  NaN   \n",
       "1308    male  29.00      0      0  315082    7.8750      NaN        S  NaN   \n",
       "\n",
       "       body                        home.dest  \n",
       "0       NaN                     St Louis, MO  \n",
       "1       NaN  Montreal, PQ / Chesterville, ON  \n",
       "2       NaN  Montreal, PQ / Chesterville, ON  \n",
       "3     135.0  Montreal, PQ / Chesterville, ON  \n",
       "4       NaN  Montreal, PQ / Chesterville, ON  \n",
       "...     ...                              ...  \n",
       "1304  328.0                              NaN  \n",
       "1305    NaN                              NaN  \n",
       "1306  304.0                              NaN  \n",
       "1307    NaN                              NaN  \n",
       "1308    NaN                              NaN  \n",
       "\n",
       "[1309 rows x 14 columns]"
      ]
     },
     "execution_count": 2,
     "metadata": {},
     "output_type": "execute_result"
    }
   ],
   "source": [
    "titanic_Data=pd.read_csv(\"titanic3.csv\") #Reading Titanic dataset\n",
    "titanic_Data"
   ]
  },
  {
   "cell_type": "code",
   "execution_count": 3,
   "id": "d4212c99",
   "metadata": {},
   "outputs": [
    {
     "data": {
      "text/html": [
       "<div>\n",
       "<style scoped>\n",
       "    .dataframe tbody tr th:only-of-type {\n",
       "        vertical-align: middle;\n",
       "    }\n",
       "\n",
       "    .dataframe tbody tr th {\n",
       "        vertical-align: top;\n",
       "    }\n",
       "\n",
       "    .dataframe thead th {\n",
       "        text-align: right;\n",
       "    }\n",
       "</style>\n",
       "<table border=\"1\" class=\"dataframe\">\n",
       "  <thead>\n",
       "    <tr style=\"text-align: right;\">\n",
       "      <th></th>\n",
       "      <th>pclass</th>\n",
       "      <th>sex</th>\n",
       "      <th>age</th>\n",
       "    </tr>\n",
       "  </thead>\n",
       "  <tbody>\n",
       "    <tr>\n",
       "      <th>0</th>\n",
       "      <td>1</td>\n",
       "      <td>female</td>\n",
       "      <td>29.00</td>\n",
       "    </tr>\n",
       "    <tr>\n",
       "      <th>1</th>\n",
       "      <td>1</td>\n",
       "      <td>male</td>\n",
       "      <td>0.92</td>\n",
       "    </tr>\n",
       "    <tr>\n",
       "      <th>2</th>\n",
       "      <td>1</td>\n",
       "      <td>female</td>\n",
       "      <td>2.00</td>\n",
       "    </tr>\n",
       "    <tr>\n",
       "      <th>3</th>\n",
       "      <td>1</td>\n",
       "      <td>male</td>\n",
       "      <td>30.00</td>\n",
       "    </tr>\n",
       "    <tr>\n",
       "      <th>4</th>\n",
       "      <td>1</td>\n",
       "      <td>female</td>\n",
       "      <td>25.00</td>\n",
       "    </tr>\n",
       "    <tr>\n",
       "      <th>...</th>\n",
       "      <td>...</td>\n",
       "      <td>...</td>\n",
       "      <td>...</td>\n",
       "    </tr>\n",
       "    <tr>\n",
       "      <th>1304</th>\n",
       "      <td>3</td>\n",
       "      <td>female</td>\n",
       "      <td>14.50</td>\n",
       "    </tr>\n",
       "    <tr>\n",
       "      <th>1305</th>\n",
       "      <td>3</td>\n",
       "      <td>female</td>\n",
       "      <td>NaN</td>\n",
       "    </tr>\n",
       "    <tr>\n",
       "      <th>1306</th>\n",
       "      <td>3</td>\n",
       "      <td>male</td>\n",
       "      <td>26.50</td>\n",
       "    </tr>\n",
       "    <tr>\n",
       "      <th>1307</th>\n",
       "      <td>3</td>\n",
       "      <td>male</td>\n",
       "      <td>27.00</td>\n",
       "    </tr>\n",
       "    <tr>\n",
       "      <th>1308</th>\n",
       "      <td>3</td>\n",
       "      <td>male</td>\n",
       "      <td>29.00</td>\n",
       "    </tr>\n",
       "  </tbody>\n",
       "</table>\n",
       "<p>1309 rows × 3 columns</p>\n",
       "</div>"
      ],
      "text/plain": [
       "      pclass     sex    age\n",
       "0          1  female  29.00\n",
       "1          1    male   0.92\n",
       "2          1  female   2.00\n",
       "3          1    male  30.00\n",
       "4          1  female  25.00\n",
       "...      ...     ...    ...\n",
       "1304       3  female  14.50\n",
       "1305       3  female    NaN\n",
       "1306       3    male  26.50\n",
       "1307       3    male  27.00\n",
       "1308       3    male  29.00\n",
       "\n",
       "[1309 rows x 3 columns]"
      ]
     },
     "execution_count": 3,
     "metadata": {},
     "output_type": "execute_result"
    }
   ],
   "source": [
    "selected_data=titanic_Data[['pclass','sex','age']] #extract pclass, sex, and age columns \n",
    "selected_data"
   ]
  },
  {
   "cell_type": "code",
   "execution_count": 4,
   "id": "dc913aba",
   "metadata": {},
   "outputs": [
    {
     "data": {
      "text/html": [
       "<div>\n",
       "<style scoped>\n",
       "    .dataframe tbody tr th:only-of-type {\n",
       "        vertical-align: middle;\n",
       "    }\n",
       "\n",
       "    .dataframe tbody tr th {\n",
       "        vertical-align: top;\n",
       "    }\n",
       "\n",
       "    .dataframe thead th {\n",
       "        text-align: right;\n",
       "    }\n",
       "</style>\n",
       "<table border=\"1\" class=\"dataframe\">\n",
       "  <thead>\n",
       "    <tr style=\"text-align: right;\">\n",
       "      <th></th>\n",
       "      <th>pclass</th>\n",
       "      <th>sex</th>\n",
       "      <th>age</th>\n",
       "    </tr>\n",
       "  </thead>\n",
       "  <tbody>\n",
       "    <tr>\n",
       "      <th>0</th>\n",
       "      <td>1</td>\n",
       "      <td>0</td>\n",
       "      <td>29.00</td>\n",
       "    </tr>\n",
       "    <tr>\n",
       "      <th>1</th>\n",
       "      <td>1</td>\n",
       "      <td>1</td>\n",
       "      <td>0.92</td>\n",
       "    </tr>\n",
       "    <tr>\n",
       "      <th>2</th>\n",
       "      <td>1</td>\n",
       "      <td>0</td>\n",
       "      <td>2.00</td>\n",
       "    </tr>\n",
       "    <tr>\n",
       "      <th>3</th>\n",
       "      <td>1</td>\n",
       "      <td>1</td>\n",
       "      <td>30.00</td>\n",
       "    </tr>\n",
       "    <tr>\n",
       "      <th>4</th>\n",
       "      <td>1</td>\n",
       "      <td>0</td>\n",
       "      <td>25.00</td>\n",
       "    </tr>\n",
       "    <tr>\n",
       "      <th>...</th>\n",
       "      <td>...</td>\n",
       "      <td>...</td>\n",
       "      <td>...</td>\n",
       "    </tr>\n",
       "    <tr>\n",
       "      <th>1304</th>\n",
       "      <td>3</td>\n",
       "      <td>0</td>\n",
       "      <td>14.50</td>\n",
       "    </tr>\n",
       "    <tr>\n",
       "      <th>1305</th>\n",
       "      <td>3</td>\n",
       "      <td>0</td>\n",
       "      <td>NaN</td>\n",
       "    </tr>\n",
       "    <tr>\n",
       "      <th>1306</th>\n",
       "      <td>3</td>\n",
       "      <td>1</td>\n",
       "      <td>26.50</td>\n",
       "    </tr>\n",
       "    <tr>\n",
       "      <th>1307</th>\n",
       "      <td>3</td>\n",
       "      <td>1</td>\n",
       "      <td>27.00</td>\n",
       "    </tr>\n",
       "    <tr>\n",
       "      <th>1308</th>\n",
       "      <td>3</td>\n",
       "      <td>1</td>\n",
       "      <td>29.00</td>\n",
       "    </tr>\n",
       "  </tbody>\n",
       "</table>\n",
       "<p>1309 rows × 3 columns</p>\n",
       "</div>"
      ],
      "text/plain": [
       "      pclass  sex    age\n",
       "0          1    0  29.00\n",
       "1          1    1   0.92\n",
       "2          1    0   2.00\n",
       "3          1    1  30.00\n",
       "4          1    0  25.00\n",
       "...      ...  ...    ...\n",
       "1304       3    0  14.50\n",
       "1305       3    0    NaN\n",
       "1306       3    1  26.50\n",
       "1307       3    1  27.00\n",
       "1308       3    1  29.00\n",
       "\n",
       "[1309 rows x 3 columns]"
      ]
     },
     "execution_count": 4,
     "metadata": {},
     "output_type": "execute_result"
    }
   ],
   "source": [
    "#creating an instance of label encoder\n",
    "lab= LabelEncoder()\n",
    "#compute label encoding on sex column\n",
    "selected_data['sex'] = lab.fit_transform(selected_data['sex'])# transform categorical feature(sex) to numerical \n",
    "selected_data"
   ]
  },
  {
   "cell_type": "code",
   "execution_count": 5,
   "id": "980e20fe",
   "metadata": {},
   "outputs": [
    {
     "data": {
      "text/html": [
       "<div>\n",
       "<style scoped>\n",
       "    .dataframe tbody tr th:only-of-type {\n",
       "        vertical-align: middle;\n",
       "    }\n",
       "\n",
       "    .dataframe tbody tr th {\n",
       "        vertical-align: top;\n",
       "    }\n",
       "\n",
       "    .dataframe thead th {\n",
       "        text-align: right;\n",
       "    }\n",
       "</style>\n",
       "<table border=\"1\" class=\"dataframe\">\n",
       "  <thead>\n",
       "    <tr style=\"text-align: right;\">\n",
       "      <th></th>\n",
       "      <th>pclass</th>\n",
       "      <th>sex</th>\n",
       "      <th>age</th>\n",
       "    </tr>\n",
       "  </thead>\n",
       "  <tbody>\n",
       "    <tr>\n",
       "      <th>0</th>\n",
       "      <td>1</td>\n",
       "      <td>0</td>\n",
       "      <td>29.000000</td>\n",
       "    </tr>\n",
       "    <tr>\n",
       "      <th>1</th>\n",
       "      <td>1</td>\n",
       "      <td>1</td>\n",
       "      <td>0.920000</td>\n",
       "    </tr>\n",
       "    <tr>\n",
       "      <th>2</th>\n",
       "      <td>1</td>\n",
       "      <td>0</td>\n",
       "      <td>2.000000</td>\n",
       "    </tr>\n",
       "    <tr>\n",
       "      <th>3</th>\n",
       "      <td>1</td>\n",
       "      <td>1</td>\n",
       "      <td>30.000000</td>\n",
       "    </tr>\n",
       "    <tr>\n",
       "      <th>4</th>\n",
       "      <td>1</td>\n",
       "      <td>0</td>\n",
       "      <td>25.000000</td>\n",
       "    </tr>\n",
       "    <tr>\n",
       "      <th>...</th>\n",
       "      <td>...</td>\n",
       "      <td>...</td>\n",
       "      <td>...</td>\n",
       "    </tr>\n",
       "    <tr>\n",
       "      <th>1304</th>\n",
       "      <td>3</td>\n",
       "      <td>0</td>\n",
       "      <td>14.500000</td>\n",
       "    </tr>\n",
       "    <tr>\n",
       "      <th>1305</th>\n",
       "      <td>3</td>\n",
       "      <td>0</td>\n",
       "      <td>29.881138</td>\n",
       "    </tr>\n",
       "    <tr>\n",
       "      <th>1306</th>\n",
       "      <td>3</td>\n",
       "      <td>1</td>\n",
       "      <td>26.500000</td>\n",
       "    </tr>\n",
       "    <tr>\n",
       "      <th>1307</th>\n",
       "      <td>3</td>\n",
       "      <td>1</td>\n",
       "      <td>27.000000</td>\n",
       "    </tr>\n",
       "    <tr>\n",
       "      <th>1308</th>\n",
       "      <td>3</td>\n",
       "      <td>1</td>\n",
       "      <td>29.000000</td>\n",
       "    </tr>\n",
       "  </tbody>\n",
       "</table>\n",
       "<p>1309 rows × 3 columns</p>\n",
       "</div>"
      ],
      "text/plain": [
       "      pclass  sex        age\n",
       "0          1    0  29.000000\n",
       "1          1    1   0.920000\n",
       "2          1    0   2.000000\n",
       "3          1    1  30.000000\n",
       "4          1    0  25.000000\n",
       "...      ...  ...        ...\n",
       "1304       3    0  14.500000\n",
       "1305       3    0  29.881138\n",
       "1306       3    1  26.500000\n",
       "1307       3    1  27.000000\n",
       "1308       3    1  29.000000\n",
       "\n",
       "[1309 rows x 3 columns]"
      ]
     },
     "execution_count": 5,
     "metadata": {},
     "output_type": "execute_result"
    }
   ],
   "source": [
    "selected_data['age'] = selected_data['age'].fillna(selected_data['age'].mean()) #impute missing values using mean\n",
    "selected_data"
   ]
  },
  {
   "cell_type": "code",
   "execution_count": 6,
   "id": "a31af389",
   "metadata": {},
   "outputs": [
    {
     "data": {
      "text/plain": [
       "0       1\n",
       "1       1\n",
       "2       0\n",
       "3       0\n",
       "4       0\n",
       "       ..\n",
       "1304    0\n",
       "1305    0\n",
       "1306    0\n",
       "1307    0\n",
       "1308    0\n",
       "Name: survived, Length: 1309, dtype: int64"
      ]
     },
     "execution_count": 6,
     "metadata": {},
     "output_type": "execute_result"
    }
   ],
   "source": [
    "Y_titanic=titanic_Data['survived']\n",
    "Y_titanic"
   ]
  },
  {
   "cell_type": "code",
   "execution_count": 7,
   "id": "4e851aa8",
   "metadata": {},
   "outputs": [],
   "source": [
    "#https://www.datacamp.com/tutorial/decision-tree-classification-python\n",
    "\n",
    "classf = DecisionTreeClassifier() #creating decision tree classifier\n",
    "classf = classf.fit(selected_data,Y_titanic) # train decion tree classifier"
   ]
  },
  {
   "cell_type": "code",
   "execution_count": 8,
   "id": "f9a19a3c",
   "metadata": {},
   "outputs": [
    {
     "data": {
      "text/html": [
       "<style>#sk-container-id-1 {color: black;background-color: white;}#sk-container-id-1 pre{padding: 0;}#sk-container-id-1 div.sk-toggleable {background-color: white;}#sk-container-id-1 label.sk-toggleable__label {cursor: pointer;display: block;width: 100%;margin-bottom: 0;padding: 0.3em;box-sizing: border-box;text-align: center;}#sk-container-id-1 label.sk-toggleable__label-arrow:before {content: \"▸\";float: left;margin-right: 0.25em;color: #696969;}#sk-container-id-1 label.sk-toggleable__label-arrow:hover:before {color: black;}#sk-container-id-1 div.sk-estimator:hover label.sk-toggleable__label-arrow:before {color: black;}#sk-container-id-1 div.sk-toggleable__content {max-height: 0;max-width: 0;overflow: hidden;text-align: left;background-color: #f0f8ff;}#sk-container-id-1 div.sk-toggleable__content pre {margin: 0.2em;color: black;border-radius: 0.25em;background-color: #f0f8ff;}#sk-container-id-1 input.sk-toggleable__control:checked~div.sk-toggleable__content {max-height: 200px;max-width: 100%;overflow: auto;}#sk-container-id-1 input.sk-toggleable__control:checked~label.sk-toggleable__label-arrow:before {content: \"▾\";}#sk-container-id-1 div.sk-estimator input.sk-toggleable__control:checked~label.sk-toggleable__label {background-color: #d4ebff;}#sk-container-id-1 div.sk-label input.sk-toggleable__control:checked~label.sk-toggleable__label {background-color: #d4ebff;}#sk-container-id-1 input.sk-hidden--visually {border: 0;clip: rect(1px 1px 1px 1px);clip: rect(1px, 1px, 1px, 1px);height: 1px;margin: -1px;overflow: hidden;padding: 0;position: absolute;width: 1px;}#sk-container-id-1 div.sk-estimator {font-family: monospace;background-color: #f0f8ff;border: 1px dotted black;border-radius: 0.25em;box-sizing: border-box;margin-bottom: 0.5em;}#sk-container-id-1 div.sk-estimator:hover {background-color: #d4ebff;}#sk-container-id-1 div.sk-parallel-item::after {content: \"\";width: 100%;border-bottom: 1px solid gray;flex-grow: 1;}#sk-container-id-1 div.sk-label:hover label.sk-toggleable__label {background-color: #d4ebff;}#sk-container-id-1 div.sk-serial::before {content: \"\";position: absolute;border-left: 1px solid gray;box-sizing: border-box;top: 0;bottom: 0;left: 50%;z-index: 0;}#sk-container-id-1 div.sk-serial {display: flex;flex-direction: column;align-items: center;background-color: white;padding-right: 0.2em;padding-left: 0.2em;position: relative;}#sk-container-id-1 div.sk-item {position: relative;z-index: 1;}#sk-container-id-1 div.sk-parallel {display: flex;align-items: stretch;justify-content: center;background-color: white;position: relative;}#sk-container-id-1 div.sk-item::before, #sk-container-id-1 div.sk-parallel-item::before {content: \"\";position: absolute;border-left: 1px solid gray;box-sizing: border-box;top: 0;bottom: 0;left: 50%;z-index: -1;}#sk-container-id-1 div.sk-parallel-item {display: flex;flex-direction: column;z-index: 1;position: relative;background-color: white;}#sk-container-id-1 div.sk-parallel-item:first-child::after {align-self: flex-end;width: 50%;}#sk-container-id-1 div.sk-parallel-item:last-child::after {align-self: flex-start;width: 50%;}#sk-container-id-1 div.sk-parallel-item:only-child::after {width: 0;}#sk-container-id-1 div.sk-dashed-wrapped {border: 1px dashed gray;margin: 0 0.4em 0.5em 0.4em;box-sizing: border-box;padding-bottom: 0.4em;background-color: white;}#sk-container-id-1 div.sk-label label {font-family: monospace;font-weight: bold;display: inline-block;line-height: 1.2em;}#sk-container-id-1 div.sk-label-container {text-align: center;}#sk-container-id-1 div.sk-container {/* jupyter's `normalize.less` sets `[hidden] { display: none; }` but bootstrap.min.css set `[hidden] { display: none !important; }` so we also need the `!important` here to be able to override the default hidden behavior on the sphinx rendered scikit-learn.org. See: https://github.com/scikit-learn/scikit-learn/issues/21755 */display: inline-block !important;position: relative;}#sk-container-id-1 div.sk-text-repr-fallback {display: none;}</style><div id=\"sk-container-id-1\" class=\"sk-top-container\"><div class=\"sk-text-repr-fallback\"><pre>DecisionTreeClassifier()</pre><b>In a Jupyter environment, please rerun this cell to show the HTML representation or trust the notebook. <br />On GitHub, the HTML representation is unable to render, please try loading this page with nbviewer.org.</b></div><div class=\"sk-container\" hidden><div class=\"sk-item\"><div class=\"sk-estimator sk-toggleable\"><input class=\"sk-toggleable__control sk-hidden--visually\" id=\"sk-estimator-id-1\" type=\"checkbox\" checked><label for=\"sk-estimator-id-1\" class=\"sk-toggleable__label sk-toggleable__label-arrow\">DecisionTreeClassifier</label><div class=\"sk-toggleable__content\"><pre>DecisionTreeClassifier()</pre></div></div></div></div></div>"
      ],
      "text/plain": [
       "DecisionTreeClassifier()"
      ]
     },
     "execution_count": 8,
     "metadata": {},
     "output_type": "execute_result"
    }
   ],
   "source": [
    "classf"
   ]
  },
  {
   "cell_type": "code",
   "execution_count": 9,
   "id": "4eedb6c4",
   "metadata": {},
   "outputs": [
    {
     "data": {
      "image/png": "[encoded data removed]",
      "text/plain": [
       "<Figure size 864x648 with 1 Axes>"
      ]
     },
     "metadata": {
      "needs_background": "light"
     },
     "output_type": "display_data"
    }
   ],
   "source": [
    "plt.figure(figsize=(12,9)) # size of the figure\n",
    "plot_tree(classf, filled=True,rounded=True,fontsize=2)\n",
    "plt.show()"
   ]
  },
  {
   "cell_type": "markdown",
   "id": "b0c4654d",
   "metadata": {},
   "source": [
    "#Evaluation before pruning"
   ]
  },
  {
   "cell_type": "code",
   "execution_count": 10,
   "id": "517a5211",
   "metadata": {},
   "outputs": [
    {
     "name": "stdout",
     "output_type": "stream",
     "text": [
      "The accuracy scores:0.7731238990017615\n",
      "The misclassfication errors:0.22687610099823852\n"
     ]
    }
   ],
   "source": [
    "#https://www.w3schools.com/python/python_ml_cross_validation.asp\n",
    "k_f = KFold(n_splits = 10, shuffle=True, random_state=0) \n",
    "Scores = cross_val_score(classf, selected_data, Y_titanic, cv = k_f, scoring='accuracy')\n",
    "print(f'The accuracy scores:{Scores.mean()}')\n",
    "misclassfErrors=(1-Scores.mean())\n",
    "print(f'The misclassfication errors:{misclassfErrors}')"
   ]
  },
  {
   "cell_type": "markdown",
   "id": "869df476",
   "metadata": {},
   "source": [
    "Our model is performing well at 77"
   ]
  },
  {
   "cell_type": "markdown",
   "id": "95fd6ca6",
   "metadata": {},
   "source": [
    "# pruning"
   ]
  },
  {
   "cell_type": "code",
   "execution_count": 11,
   "id": "997c800d",
   "metadata": {},
   "outputs": [
    {
     "name": "stdout",
     "output_type": "stream",
     "text": [
      "best_max_depth:  3\n"
     ]
    }
   ],
   "source": [
    "l=[]\n",
    "list_of_maxdepth= range(1, 30)\n",
    "for i in list_of_maxdepth:  \n",
    "    classf1 = DecisionTreeClassifier(max_depth=i) #creating decision tree classifier\n",
    "    classf1 = classf1.fit(selected_data,Y_titanic) # train decion tree classifier\n",
    "    Scores1 = cross_val_score(classf1, selected_data, Y_titanic, cv = k_f, scoring='accuracy').mean()\n",
    "    l.append(Scores1)\n",
    "best_max_depth=list_of_maxdepth[l.index(np.max(l))]\n",
    "print(\"best_max_depth: \",best_max_depth)"
   ]
  },
  {
   "cell_type": "code",
   "execution_count": 12,
   "id": "4ea45339",
   "metadata": {},
   "outputs": [],
   "source": [
    "\n",
    "classf_pruned = DecisionTreeClassifier(max_depth=best_max_depth) #creating decision tree classifier\n",
    "classf_pruned = classf_pruned.fit(selected_data,Y_titanic) #train decion tree classifier\n"
   ]
  },
  {
   "cell_type": "code",
   "execution_count": 13,
   "id": "b28303c0",
   "metadata": {},
   "outputs": [
    {
     "data": {
      "image/png": "[encoded data removed]",
      "text/plain": [
       "<Figure size 1080x720 with 1 Axes>"
      ]
     },
     "metadata": {
      "needs_background": "light"
     },
     "output_type": "display_data"
    }
   ],
   "source": [
    "plt.figure(figsize=(15,10)) # size of the figure\n",
    "plot_tree(classf_pruned, filled=True)\n",
    "plt.show()"
   ]
  },
  {
   "cell_type": "code",
   "execution_count": 14,
   "id": "bb533761",
   "metadata": {},
   "outputs": [
    {
     "name": "stdout",
     "output_type": "stream",
     "text": [
      "The accuracy scores:0.7868408690546095\n",
      "The misclassfication errors:0.21315913094539052\n"
     ]
    }
   ],
   "source": [
    "k_f = KFold(n_splits = 10, shuffle=True, random_state=0) \n",
    "Scores2 = cross_val_score(classf_pruned, selected_data, Y_titanic, cv = k_f, scoring='accuracy')\n",
    "print(f'The accuracy scores:{Scores2.mean()}')\n",
    "misclassfErrors2=(1-Scores2.mean())\n",
    "print(f'The misclassfication errors:{misclassfErrors2}')"
   ]
  },
  {
   "cell_type": "markdown",
   "id": "a37e756f",
   "metadata": {},
   "source": [
    "Logistic  regression model"
   ]
  },
  {
   "cell_type": "code",
   "execution_count": 15,
   "id": "fd5a6bf5",
   "metadata": {},
   "outputs": [],
   "source": [
    "# instantiate the model (using the default parameters)\n",
    "logistic_reg1 = LogisticRegression()\n",
    "# fitting the model with data\n",
    "\n",
    "logistic_reg1=logistic_reg1.fit(selected_data,Y_titanic )\n",
    "# logistic_reg1"
   ]
  },
  {
   "cell_type": "code",
   "execution_count": 16,
   "id": "c6faafc4",
   "metadata": {},
   "outputs": [
    {
     "name": "stdout",
     "output_type": "stream",
     "text": [
      "The accuracy scores:0.7883852025836758\n",
      "The misclassfication errors:0.21161479741632416\n"
     ]
    }
   ],
   "source": [
    "k_f = KFold(n_splits = 10, shuffle=True, random_state=0) \n",
    "Scores3 = cross_val_score(logistic_reg1, selected_data, Y_titanic, cv = k_f, scoring='accuracy')\n",
    "print(f'The accuracy scores:{Scores3.mean()}')\n",
    "misclassfErrors3=(1-Scores3.mean())\n",
    "print(f'The misclassfication errors:{misclassfErrors3}')"
   ]
  },
  {
   "cell_type": "markdown",
   "id": "c6b913f4",
   "metadata": {},
   "source": [
    "Based on the Accuracy obtained, the best model is the logistic regression model which has an accuracy of 78.88% \n",
    "\n",
    "and misclassification errors of 21.16% "
   ]
  },
  {
   "cell_type": "markdown",
   "id": "b382bec8",
   "metadata": {},
   "source": [
    "# Question3.2"
   ]
  },
  {
   "cell_type": "markdown",
   "id": "785729dd",
   "metadata": {},
   "source": [
    "How I transformed the available variables\n",
    "steps:\n",
    "   \n",
    "    -Changing categorical into numerical values \n",
    "    - rescalling\n",
    "    - normilization\n",
    "    - filling null\n",
    "    - label encoding\n",
    "    \n",
    "    for my case, i did\n",
    "    \n",
    "    -Label encoding: I changed female and male into numerical values (1 and 0)\n",
    "    -Fill null: age column was replaced with average ages\n",
    "    \n",
    "    "
   ]
  },
  {
   "cell_type": "markdown",
   "id": "e577e900",
   "metadata": {},
   "source": [
    "# 3.3"
   ]
  },
  {
   "cell_type": "code",
   "execution_count": 17,
   "id": "1e2e57df",
   "metadata": {},
   "outputs": [],
   "source": [
    "# #https://www.datacamp.com/tutorial/k-nearest-neighbor-classification-scikit-learn\n",
    "\n",
    "# KNN_model= KNeighborsClassifier(n_neighbors=3)\n",
    "\n",
    "# KNN_model.fit(selected_data,Y_titanic) #train the model \n",
    "\n",
    "# predicted= KNN_model.predict(selected_data) #Predict the output\n",
    "# print(predicted)\n"
   ]
  },
  {
   "cell_type": "code",
   "execution_count": 18,
   "id": "0bd60c2e",
   "metadata": {},
   "outputs": [
    {
     "name": "stdout",
     "output_type": "stream",
     "text": [
      "The optimal number of the neighbors is: 3\n"
     ]
    }
   ],
   "source": [
    "#choose k between 1 to 20\n",
    "k_f = KFold(n_splits = 10, shuffle=True, random_state=0) \n",
    "k_range = range(1, 20)\n",
    "k_scores_error = []\n",
    "\n",
    "#use iteration to caclulator different k in models\n",
    "for k in k_range:\n",
    "    KNN_model = KNeighborsClassifier(n_neighbors=k)\n",
    "    model_knn=KNN_model.fit(selected_data,Y_titanic)\n",
    "    scores = cross_val_score(model_knn,selected_data , Y_titanic, cv=k_f, scoring='neg_mean_squared_error')\n",
    "    k_scores_error.append(abs(scores.mean()))\n",
    "best_k=k_range[k_scores_error.index(np.min(k_scores_error))]\n",
    "minimum_loss = k_scores_error[best_k-1]\n",
    "optimal_k = k_range[k_scores_error.index(minimum_loss)]\n",
    "print(f'The optimal number of the neighbors is: {optimal_k}')# display the output\n"
   ]
  },
  {
   "cell_type": "code",
   "execution_count": 19,
   "id": "ee7414af",
   "metadata": {},
   "outputs": [
    {
     "data": {
      "image/png": "[encoded data removed]",
      "text/plain": [
       "<Figure size 432x288 with 1 Axes>"
      ]
     },
     "metadata": {
      "needs_background": "light"
     },
     "output_type": "display_data"
    }
   ],
   "source": [
    "#plot to see clearly\n",
    "plt.plot(k_range, k_scores_error,label=\"Loss trend\")\n",
    "plt.xlabel('Value of K for K-Nearest Neighbor')\n",
    "plt.plot(best_k,minimum_loss,'o',label=\"optimal number\")\n",
    "plt.ylabel('Cross-Validation error')\n",
    "plt.title(\"Loss against the number of k\")\n",
    "plt.grid()\n",
    "plt.legend()\n",
    "plt.show()\n",
    "\n",
    "         "
   ]
  },
  {
   "cell_type": "markdown",
   "id": "05e46b56",
   "metadata": {},
   "source": [
    "The above graph represented The loss vs number of k, where k=3 is indicate the minimum squared error.  "
   ]
  },
  {
   "cell_type": "code",
   "execution_count": 20,
   "id": "75f1eb9b",
   "metadata": {},
   "outputs": [],
   "source": [
    "#KNN_model = KNeighborsClassifier(n_neighbors=3)\n",
    "#scores = cross_val_score(KNN_model,selected_data , Y_titanic, cv=5, scoring='accuracy')\n",
    "#k_scores.append(scores.mean())"
   ]
  },
  {
   "cell_type": "markdown",
   "id": "38a31db2",
   "metadata": {},
   "source": [
    "# 3.4"
   ]
  },
  {
   "cell_type": "markdown",
   "id": "f99d1246",
   "metadata": {},
   "source": [
    "Evaluate the performance using different distance metrics."
   ]
  },
  {
   "cell_type": "code",
   "execution_count": 21,
   "id": "175fb0e8",
   "metadata": {},
   "outputs": [
    {
     "data": {
      "image/png": "[encoded data removed]",
      "text/plain": [
       "<Figure size 432x288 with 1 Axes>"
      ]
     },
     "metadata": {
      "needs_background": "light"
     },
     "output_type": "display_data"
    }
   ],
   "source": [
    "scaler=StandardScaler()\n",
    "h=scaler.fit_transform(selected_data)\n",
    "score=[]\n",
    "metric=['euclidean','hamming','manhattan','chebyshev','minkowski']\n",
    "for kk in metric:\n",
    "    KNN_model = KNeighborsClassifier(n_neighbors=3, metric=kk)\n",
    "    model_knn=KNN_model.fit(h,Y_titanic)\n",
    "    scores = cross_val_score(KNN_model,h , Y_titanic, cv=k_f, scoring='accuracy')\n",
    "    score.append(scores.mean())\n",
    "    \n",
    "plt.plot(metric,score)\n",
    "plt.title(\"Performance metrics\")\n",
    "plt.ylabel('Accuracy')\n",
    "plt.xlabel('Metrics')\n",
    "plt.show() \n"
   ]
  },
  {
   "cell_type": "code",
   "execution_count": 22,
   "id": "f4cb3c00",
   "metadata": {},
   "outputs": [
    {
     "data": {
      "text/plain": [
       "euclidean    0.783030\n",
       "hamming      0.763946\n",
       "manhattan    0.783030\n",
       "chebyshev    0.783793\n",
       "minkowski    0.783030\n",
       "dtype: float64"
      ]
     },
     "execution_count": 22,
     "metadata": {},
     "output_type": "execute_result"
    }
   ],
   "source": [
    "pd.Series(score, index=metric)"
   ]
  },
  {
   "cell_type": "markdown",
   "id": "f1a44f6f",
   "metadata": {},
   "source": [
    "According to the above graph, Hamming has a very low accuracy of ( 0.763946)  whereas, chebyshev has high accuracy of (0.783793).\n",
    "\n",
    "Other metrics have medium accuracy."
   ]
  },
  {
   "cell_type": "markdown",
   "id": "cabc763d",
   "metadata": {},
   "source": [
    "# 3.5"
   ]
  },
  {
   "cell_type": "code",
   "execution_count": 23,
   "id": "be8adcd4",
   "metadata": {},
   "outputs": [
    {
     "name": "stdout",
     "output_type": "stream",
     "text": [
      "The accuracy of the KNN model is:0.6134626071188325\n",
      "The misclassification error is:0.3865373928811675\n"
     ]
    }
   ],
   "source": [
    "KNN_model1 = KNeighborsClassifier(n_neighbors=3, metric='chebyshev')\n",
    "scores1= cross_val_score(KNN_model1, selected_data , Y_titanic, cv=5, scoring='accuracy').mean()\n",
    "scores1\n",
    "    \n",
    "print(f'The accuracy of the KNN model is:{scores1}')\n",
    "print(f'The misclassification error is:{1-scores1}')"
   ]
  },
  {
   "cell_type": "markdown",
   "id": "5d8ae432",
   "metadata": {},
   "source": [
    "# Logistic model"
   ]
  },
  {
   "cell_type": "code",
   "execution_count": 24,
   "id": "0b215161",
   "metadata": {},
   "outputs": [
    {
     "name": "stdout",
     "output_type": "stream",
     "text": [
      "The accuracy scores:0.7883852025836758\n",
      "The misclassfication errors:0.21161479741632416\n"
     ]
    }
   ],
   "source": [
    "\n",
    "logistic_reg11 = LogisticRegression(solver='liblinear')\n",
    "logistic_reg11=logistic_reg1.fit(selected_data,Y_titanic )\n",
    "\n",
    "k_f = KFold(n_splits = 10, shuffle=True, random_state=0) \n",
    "Scores33 = cross_val_score(logistic_reg11, selected_data, Y_titanic, cv = k_f, scoring='accuracy')\n",
    "print(f'The accuracy scores:{Scores33.mean()}')\n",
    "misclassfErrors33=(1-Scores33.mean())\n",
    "print(f'The misclassfication errors:{misclassfErrors33}')"
   ]
  },
  {
   "cell_type": "markdown",
   "id": "f92cdca0",
   "metadata": {},
   "source": [
    "The logistic regression model is the best model based on the accuracy and misclassification error.\n",
    "\n",
    "it has an accuracy of 78% (0.7883852025836758) and misclassification error of 21% (0.21161479741632416)"
   ]
  },
  {
   "cell_type": "markdown",
   "id": "f247fb0f",
   "metadata": {},
   "source": [
    "# Question 4.1"
   ]
  },
  {
   "cell_type": "code",
   "execution_count": 25,
   "id": "6b01bf87",
   "metadata": {
    "scrolled": true
   },
   "outputs": [
    {
     "data": {
      "text/html": [
       "<div>\n",
       "<style scoped>\n",
       "    .dataframe tbody tr th:only-of-type {\n",
       "        vertical-align: middle;\n",
       "    }\n",
       "\n",
       "    .dataframe tbody tr th {\n",
       "        vertical-align: top;\n",
       "    }\n",
       "\n",
       "    .dataframe thead th {\n",
       "        text-align: right;\n",
       "    }\n",
       "</style>\n",
       "<table border=\"1\" class=\"dataframe\">\n",
       "  <thead>\n",
       "    <tr style=\"text-align: right;\">\n",
       "      <th></th>\n",
       "      <th>fixed acidity</th>\n",
       "      <th>volatile acidity</th>\n",
       "      <th>citric acid</th>\n",
       "      <th>residual sugar</th>\n",
       "      <th>chlorides</th>\n",
       "      <th>free sulfur dioxide</th>\n",
       "      <th>total sulfur dioxide</th>\n",
       "      <th>density</th>\n",
       "      <th>pH</th>\n",
       "      <th>sulphates</th>\n",
       "      <th>alcohol</th>\n",
       "      <th>quality</th>\n",
       "    </tr>\n",
       "  </thead>\n",
       "  <tbody>\n",
       "    <tr>\n",
       "      <th>0</th>\n",
       "      <td>7.4</td>\n",
       "      <td>0.700</td>\n",
       "      <td>0.00</td>\n",
       "      <td>1.9</td>\n",
       "      <td>0.076</td>\n",
       "      <td>11.0</td>\n",
       "      <td>34.0</td>\n",
       "      <td>0.99780</td>\n",
       "      <td>3.51</td>\n",
       "      <td>0.56</td>\n",
       "      <td>9.4</td>\n",
       "      <td>5</td>\n",
       "    </tr>\n",
       "    <tr>\n",
       "      <th>1</th>\n",
       "      <td>7.8</td>\n",
       "      <td>0.880</td>\n",
       "      <td>0.00</td>\n",
       "      <td>2.6</td>\n",
       "      <td>0.098</td>\n",
       "      <td>25.0</td>\n",
       "      <td>67.0</td>\n",
       "      <td>0.99680</td>\n",
       "      <td>3.20</td>\n",
       "      <td>0.68</td>\n",
       "      <td>9.8</td>\n",
       "      <td>5</td>\n",
       "    </tr>\n",
       "    <tr>\n",
       "      <th>2</th>\n",
       "      <td>7.8</td>\n",
       "      <td>0.760</td>\n",
       "      <td>0.04</td>\n",
       "      <td>2.3</td>\n",
       "      <td>0.092</td>\n",
       "      <td>15.0</td>\n",
       "      <td>54.0</td>\n",
       "      <td>0.99700</td>\n",
       "      <td>3.26</td>\n",
       "      <td>0.65</td>\n",
       "      <td>9.8</td>\n",
       "      <td>5</td>\n",
       "    </tr>\n",
       "    <tr>\n",
       "      <th>3</th>\n",
       "      <td>11.2</td>\n",
       "      <td>0.280</td>\n",
       "      <td>0.56</td>\n",
       "      <td>1.9</td>\n",
       "      <td>0.075</td>\n",
       "      <td>17.0</td>\n",
       "      <td>60.0</td>\n",
       "      <td>0.99800</td>\n",
       "      <td>3.16</td>\n",
       "      <td>0.58</td>\n",
       "      <td>9.8</td>\n",
       "      <td>6</td>\n",
       "    </tr>\n",
       "    <tr>\n",
       "      <th>4</th>\n",
       "      <td>7.4</td>\n",
       "      <td>0.700</td>\n",
       "      <td>0.00</td>\n",
       "      <td>1.9</td>\n",
       "      <td>0.076</td>\n",
       "      <td>11.0</td>\n",
       "      <td>34.0</td>\n",
       "      <td>0.99780</td>\n",
       "      <td>3.51</td>\n",
       "      <td>0.56</td>\n",
       "      <td>9.4</td>\n",
       "      <td>5</td>\n",
       "    </tr>\n",
       "    <tr>\n",
       "      <th>...</th>\n",
       "      <td>...</td>\n",
       "      <td>...</td>\n",
       "      <td>...</td>\n",
       "      <td>...</td>\n",
       "      <td>...</td>\n",
       "      <td>...</td>\n",
       "      <td>...</td>\n",
       "      <td>...</td>\n",
       "      <td>...</td>\n",
       "      <td>...</td>\n",
       "      <td>...</td>\n",
       "      <td>...</td>\n",
       "    </tr>\n",
       "    <tr>\n",
       "      <th>1594</th>\n",
       "      <td>6.2</td>\n",
       "      <td>0.600</td>\n",
       "      <td>0.08</td>\n",
       "      <td>2.0</td>\n",
       "      <td>0.090</td>\n",
       "      <td>32.0</td>\n",
       "      <td>44.0</td>\n",
       "      <td>0.99490</td>\n",
       "      <td>3.45</td>\n",
       "      <td>0.58</td>\n",
       "      <td>10.5</td>\n",
       "      <td>5</td>\n",
       "    </tr>\n",
       "    <tr>\n",
       "      <th>1595</th>\n",
       "      <td>5.9</td>\n",
       "      <td>0.550</td>\n",
       "      <td>0.10</td>\n",
       "      <td>2.2</td>\n",
       "      <td>0.062</td>\n",
       "      <td>39.0</td>\n",
       "      <td>51.0</td>\n",
       "      <td>0.99512</td>\n",
       "      <td>3.52</td>\n",
       "      <td>0.76</td>\n",
       "      <td>11.2</td>\n",
       "      <td>6</td>\n",
       "    </tr>\n",
       "    <tr>\n",
       "      <th>1596</th>\n",
       "      <td>6.3</td>\n",
       "      <td>0.510</td>\n",
       "      <td>0.13</td>\n",
       "      <td>2.3</td>\n",
       "      <td>0.076</td>\n",
       "      <td>29.0</td>\n",
       "      <td>40.0</td>\n",
       "      <td>0.99574</td>\n",
       "      <td>3.42</td>\n",
       "      <td>0.75</td>\n",
       "      <td>11.0</td>\n",
       "      <td>6</td>\n",
       "    </tr>\n",
       "    <tr>\n",
       "      <th>1597</th>\n",
       "      <td>5.9</td>\n",
       "      <td>0.645</td>\n",
       "      <td>0.12</td>\n",
       "      <td>2.0</td>\n",
       "      <td>0.075</td>\n",
       "      <td>32.0</td>\n",
       "      <td>44.0</td>\n",
       "      <td>0.99547</td>\n",
       "      <td>3.57</td>\n",
       "      <td>0.71</td>\n",
       "      <td>10.2</td>\n",
       "      <td>5</td>\n",
       "    </tr>\n",
       "    <tr>\n",
       "      <th>1598</th>\n",
       "      <td>6.0</td>\n",
       "      <td>0.310</td>\n",
       "      <td>0.47</td>\n",
       "      <td>3.6</td>\n",
       "      <td>0.067</td>\n",
       "      <td>18.0</td>\n",
       "      <td>42.0</td>\n",
       "      <td>0.99549</td>\n",
       "      <td>3.39</td>\n",
       "      <td>0.66</td>\n",
       "      <td>11.0</td>\n",
       "      <td>6</td>\n",
       "    </tr>\n",
       "  </tbody>\n",
       "</table>\n",
       "<p>1599 rows × 12 columns</p>\n",
       "</div>"
      ],
      "text/plain": [
       "      fixed acidity  volatile acidity  citric acid  residual sugar  chlorides  \\\n",
       "0               7.4             0.700         0.00             1.9      0.076   \n",
       "1               7.8             0.880         0.00             2.6      0.098   \n",
       "2               7.8             0.760         0.04             2.3      0.092   \n",
       "3              11.2             0.280         0.56             1.9      0.075   \n",
       "4               7.4             0.700         0.00             1.9      0.076   \n",
       "...             ...               ...          ...             ...        ...   \n",
       "1594            6.2             0.600         0.08             2.0      0.090   \n",
       "1595            5.9             0.550         0.10             2.2      0.062   \n",
       "1596            6.3             0.510         0.13             2.3      0.076   \n",
       "1597            5.9             0.645         0.12             2.0      0.075   \n",
       "1598            6.0             0.310         0.47             3.6      0.067   \n",
       "\n",
       "      free sulfur dioxide  total sulfur dioxide  density    pH  sulphates  \\\n",
       "0                    11.0                  34.0  0.99780  3.51       0.56   \n",
       "1                    25.0                  67.0  0.99680  3.20       0.68   \n",
       "2                    15.0                  54.0  0.99700  3.26       0.65   \n",
       "3                    17.0                  60.0  0.99800  3.16       0.58   \n",
       "4                    11.0                  34.0  0.99780  3.51       0.56   \n",
       "...                   ...                   ...      ...   ...        ...   \n",
       "1594                 32.0                  44.0  0.99490  3.45       0.58   \n",
       "1595                 39.0                  51.0  0.99512  3.52       0.76   \n",
       "1596                 29.0                  40.0  0.99574  3.42       0.75   \n",
       "1597                 32.0                  44.0  0.99547  3.57       0.71   \n",
       "1598                 18.0                  42.0  0.99549  3.39       0.66   \n",
       "\n",
       "      alcohol  quality  \n",
       "0         9.4        5  \n",
       "1         9.8        5  \n",
       "2         9.8        5  \n",
       "3         9.8        6  \n",
       "4         9.4        5  \n",
       "...       ...      ...  \n",
       "1594     10.5        5  \n",
       "1595     11.2        6  \n",
       "1596     11.0        6  \n",
       "1597     10.2        5  \n",
       "1598     11.0        6  \n",
       "\n",
       "[1599 rows x 12 columns]"
      ]
     },
     "execution_count": 25,
     "metadata": {},
     "output_type": "execute_result"
    }
   ],
   "source": [
    "winequality_red=pd.read_csv(\"winequality-red.csv\", delimiter=\";\") #Reading winequality red dataset\n",
    "winequality_red"
   ]
  },
  {
   "cell_type": "code",
   "execution_count": 26,
   "id": "a2c7b67d",
   "metadata": {},
   "outputs": [
    {
     "data": {
      "text/html": [
       "<div>\n",
       "<style scoped>\n",
       "    .dataframe tbody tr th:only-of-type {\n",
       "        vertical-align: middle;\n",
       "    }\n",
       "\n",
       "    .dataframe tbody tr th {\n",
       "        vertical-align: top;\n",
       "    }\n",
       "\n",
       "    .dataframe thead th {\n",
       "        text-align: right;\n",
       "    }\n",
       "</style>\n",
       "<table border=\"1\" class=\"dataframe\">\n",
       "  <thead>\n",
       "    <tr style=\"text-align: right;\">\n",
       "      <th></th>\n",
       "      <th>fixed acidity</th>\n",
       "      <th>volatile acidity</th>\n",
       "      <th>citric acid</th>\n",
       "      <th>residual sugar</th>\n",
       "      <th>chlorides</th>\n",
       "      <th>free sulfur dioxide</th>\n",
       "      <th>total sulfur dioxide</th>\n",
       "      <th>density</th>\n",
       "      <th>pH</th>\n",
       "      <th>sulphates</th>\n",
       "      <th>alcohol</th>\n",
       "      <th>quality</th>\n",
       "    </tr>\n",
       "  </thead>\n",
       "  <tbody>\n",
       "    <tr>\n",
       "      <th>0</th>\n",
       "      <td>7.0</td>\n",
       "      <td>0.27</td>\n",
       "      <td>0.36</td>\n",
       "      <td>20.7</td>\n",
       "      <td>0.045</td>\n",
       "      <td>45.0</td>\n",
       "      <td>170.0</td>\n",
       "      <td>1.00100</td>\n",
       "      <td>3.00</td>\n",
       "      <td>0.45</td>\n",
       "      <td>8.8</td>\n",
       "      <td>6</td>\n",
       "    </tr>\n",
       "    <tr>\n",
       "      <th>1</th>\n",
       "      <td>6.3</td>\n",
       "      <td>0.30</td>\n",
       "      <td>0.34</td>\n",
       "      <td>1.6</td>\n",
       "      <td>0.049</td>\n",
       "      <td>14.0</td>\n",
       "      <td>132.0</td>\n",
       "      <td>0.99400</td>\n",
       "      <td>3.30</td>\n",
       "      <td>0.49</td>\n",
       "      <td>9.5</td>\n",
       "      <td>6</td>\n",
       "    </tr>\n",
       "    <tr>\n",
       "      <th>2</th>\n",
       "      <td>8.1</td>\n",
       "      <td>0.28</td>\n",
       "      <td>0.40</td>\n",
       "      <td>6.9</td>\n",
       "      <td>0.050</td>\n",
       "      <td>30.0</td>\n",
       "      <td>97.0</td>\n",
       "      <td>0.99510</td>\n",
       "      <td>3.26</td>\n",
       "      <td>0.44</td>\n",
       "      <td>10.1</td>\n",
       "      <td>6</td>\n",
       "    </tr>\n",
       "    <tr>\n",
       "      <th>3</th>\n",
       "      <td>7.2</td>\n",
       "      <td>0.23</td>\n",
       "      <td>0.32</td>\n",
       "      <td>8.5</td>\n",
       "      <td>0.058</td>\n",
       "      <td>47.0</td>\n",
       "      <td>186.0</td>\n",
       "      <td>0.99560</td>\n",
       "      <td>3.19</td>\n",
       "      <td>0.40</td>\n",
       "      <td>9.9</td>\n",
       "      <td>6</td>\n",
       "    </tr>\n",
       "    <tr>\n",
       "      <th>4</th>\n",
       "      <td>7.2</td>\n",
       "      <td>0.23</td>\n",
       "      <td>0.32</td>\n",
       "      <td>8.5</td>\n",
       "      <td>0.058</td>\n",
       "      <td>47.0</td>\n",
       "      <td>186.0</td>\n",
       "      <td>0.99560</td>\n",
       "      <td>3.19</td>\n",
       "      <td>0.40</td>\n",
       "      <td>9.9</td>\n",
       "      <td>6</td>\n",
       "    </tr>\n",
       "    <tr>\n",
       "      <th>...</th>\n",
       "      <td>...</td>\n",
       "      <td>...</td>\n",
       "      <td>...</td>\n",
       "      <td>...</td>\n",
       "      <td>...</td>\n",
       "      <td>...</td>\n",
       "      <td>...</td>\n",
       "      <td>...</td>\n",
       "      <td>...</td>\n",
       "      <td>...</td>\n",
       "      <td>...</td>\n",
       "      <td>...</td>\n",
       "    </tr>\n",
       "    <tr>\n",
       "      <th>4893</th>\n",
       "      <td>6.2</td>\n",
       "      <td>0.21</td>\n",
       "      <td>0.29</td>\n",
       "      <td>1.6</td>\n",
       "      <td>0.039</td>\n",
       "      <td>24.0</td>\n",
       "      <td>92.0</td>\n",
       "      <td>0.99114</td>\n",
       "      <td>3.27</td>\n",
       "      <td>0.50</td>\n",
       "      <td>11.2</td>\n",
       "      <td>6</td>\n",
       "    </tr>\n",
       "    <tr>\n",
       "      <th>4894</th>\n",
       "      <td>6.6</td>\n",
       "      <td>0.32</td>\n",
       "      <td>0.36</td>\n",
       "      <td>8.0</td>\n",
       "      <td>0.047</td>\n",
       "      <td>57.0</td>\n",
       "      <td>168.0</td>\n",
       "      <td>0.99490</td>\n",
       "      <td>3.15</td>\n",
       "      <td>0.46</td>\n",
       "      <td>9.6</td>\n",
       "      <td>5</td>\n",
       "    </tr>\n",
       "    <tr>\n",
       "      <th>4895</th>\n",
       "      <td>6.5</td>\n",
       "      <td>0.24</td>\n",
       "      <td>0.19</td>\n",
       "      <td>1.2</td>\n",
       "      <td>0.041</td>\n",
       "      <td>30.0</td>\n",
       "      <td>111.0</td>\n",
       "      <td>0.99254</td>\n",
       "      <td>2.99</td>\n",
       "      <td>0.46</td>\n",
       "      <td>9.4</td>\n",
       "      <td>6</td>\n",
       "    </tr>\n",
       "    <tr>\n",
       "      <th>4896</th>\n",
       "      <td>5.5</td>\n",
       "      <td>0.29</td>\n",
       "      <td>0.30</td>\n",
       "      <td>1.1</td>\n",
       "      <td>0.022</td>\n",
       "      <td>20.0</td>\n",
       "      <td>110.0</td>\n",
       "      <td>0.98869</td>\n",
       "      <td>3.34</td>\n",
       "      <td>0.38</td>\n",
       "      <td>12.8</td>\n",
       "      <td>7</td>\n",
       "    </tr>\n",
       "    <tr>\n",
       "      <th>4897</th>\n",
       "      <td>6.0</td>\n",
       "      <td>0.21</td>\n",
       "      <td>0.38</td>\n",
       "      <td>0.8</td>\n",
       "      <td>0.020</td>\n",
       "      <td>22.0</td>\n",
       "      <td>98.0</td>\n",
       "      <td>0.98941</td>\n",
       "      <td>3.26</td>\n",
       "      <td>0.32</td>\n",
       "      <td>11.8</td>\n",
       "      <td>6</td>\n",
       "    </tr>\n",
       "  </tbody>\n",
       "</table>\n",
       "<p>4898 rows × 12 columns</p>\n",
       "</div>"
      ],
      "text/plain": [
       "      fixed acidity  volatile acidity  citric acid  residual sugar  chlorides  \\\n",
       "0               7.0              0.27         0.36            20.7      0.045   \n",
       "1               6.3              0.30         0.34             1.6      0.049   \n",
       "2               8.1              0.28         0.40             6.9      0.050   \n",
       "3               7.2              0.23         0.32             8.5      0.058   \n",
       "4               7.2              0.23         0.32             8.5      0.058   \n",
       "...             ...               ...          ...             ...        ...   \n",
       "4893            6.2              0.21         0.29             1.6      0.039   \n",
       "4894            6.6              0.32         0.36             8.0      0.047   \n",
       "4895            6.5              0.24         0.19             1.2      0.041   \n",
       "4896            5.5              0.29         0.30             1.1      0.022   \n",
       "4897            6.0              0.21         0.38             0.8      0.020   \n",
       "\n",
       "      free sulfur dioxide  total sulfur dioxide  density    pH  sulphates  \\\n",
       "0                    45.0                 170.0  1.00100  3.00       0.45   \n",
       "1                    14.0                 132.0  0.99400  3.30       0.49   \n",
       "2                    30.0                  97.0  0.99510  3.26       0.44   \n",
       "3                    47.0                 186.0  0.99560  3.19       0.40   \n",
       "4                    47.0                 186.0  0.99560  3.19       0.40   \n",
       "...                   ...                   ...      ...   ...        ...   \n",
       "4893                 24.0                  92.0  0.99114  3.27       0.50   \n",
       "4894                 57.0                 168.0  0.99490  3.15       0.46   \n",
       "4895                 30.0                 111.0  0.99254  2.99       0.46   \n",
       "4896                 20.0                 110.0  0.98869  3.34       0.38   \n",
       "4897                 22.0                  98.0  0.98941  3.26       0.32   \n",
       "\n",
       "      alcohol  quality  \n",
       "0         8.8        6  \n",
       "1         9.5        6  \n",
       "2        10.1        6  \n",
       "3         9.9        6  \n",
       "4         9.9        6  \n",
       "...       ...      ...  \n",
       "4893     11.2        6  \n",
       "4894      9.6        5  \n",
       "4895      9.4        6  \n",
       "4896     12.8        7  \n",
       "4897     11.8        6  \n",
       "\n",
       "[4898 rows x 12 columns]"
      ]
     },
     "execution_count": 26,
     "metadata": {},
     "output_type": "execute_result"
    }
   ],
   "source": [
    "winequality_white=pd.read_csv(\"winequality-white.csv\", delimiter=\";\") #Reading winequality white dataset\n",
    "winequality_white"
   ]
  },
  {
   "cell_type": "code",
   "execution_count": 38,
   "id": "6eeeeb0a",
   "metadata": {},
   "outputs": [
    {
     "data": {
      "text/plain": [
       "Index(['fixed acidity', 'volatile acidity', 'citric acid', 'residual sugar',\n",
       "       'chlorides', 'free sulfur dioxide', 'total sulfur dioxide', 'density',\n",
       "       'pH', 'sulphates', 'alcohol'],\n",
       "      dtype='object')"
      ]
     },
     "execution_count": 38,
     "metadata": {},
     "output_type": "execute_result"
    }
   ],
   "source": [
    "Mean_wineQRed = winequality_red.drop('quality',axis=1).mean()\n",
    "Mean_wineQWhite = winequality_white.drop('quality',axis=1).mean()\n",
    "Mean_wineQWhite.index"
   ]
  },
  {
   "cell_type": "code",
   "execution_count": 37,
   "id": "74f328f1",
   "metadata": {},
   "outputs": [
    {
     "data": {
      "text/plain": [
       "Index(['fixed acidity', 'volatile acidity', 'citric acid', 'residual sugar',\n",
       "       'chlorides', 'free sulfur dioxide', 'total sulfur dioxide', 'density',\n",
       "       'pH', 'sulphates', 'alcohol'],\n",
       "      dtype='object')"
      ]
     },
     "execution_count": 37,
     "metadata": {},
     "output_type": "execute_result"
    }
   ],
   "source": [
    "Mean_wineQRed.index"
   ]
  },
  {
   "cell_type": "code",
   "execution_count": 83,
   "id": "213d3423",
   "metadata": {},
   "outputs": [
    {
     "data": {
      "image/png": "[encoded data removed]",
      "text/plain": [
       "<Figure size 1080x792 with 1 Axes>"
      ]
     },
     "metadata": {
      "needs_background": "light"
     },
     "output_type": "display_data"
    }
   ],
   "source": [
    "'''\n",
    "https://www.geeksforgeeks.org/plotting-multiple-bar-charts-using-matplotlib-in-python/\n",
    "'''\n",
    "plt.figure(figsize=(15,11)) # size of the figure\n",
    "X =Mean_wineQRed.index\n",
    "X_axis = np.arange(len(X)) \n",
    "plt.bar(X_axis - 0.2, Mean_wineQRed , 0.4, label = 'red wine')\n",
    "plt.bar(X_axis + 0.2, Mean_wineQWhite, 0.4, label = 'white wine')\n",
    "plt.xticks(X_axis, X)\n",
    "plt.xlabel(\"Features\")\n",
    "plt.ylabel(\"Mean\")\n",
    "plt.title(\"Average of red and white features\")\n",
    "plt.legend()\n",
    "plt.show()"
   ]
  },
  {
   "cell_type": "markdown",
   "id": "0d31321f",
   "metadata": {},
   "source": [
    "based on the graph, white wine has the better quality than red wine"
   ]
  },
  {
   "cell_type": "code",
   "execution_count": 43,
   "id": "4541b52b",
   "metadata": {},
   "outputs": [
    {
     "data": {
      "text/plain": [
       "fixed acidity             6.854788\n",
       "volatile acidity          0.278241\n",
       "citric acid               0.334192\n",
       "residual sugar            6.391415\n",
       "chlorides                 0.045772\n",
       "free sulfur dioxide      35.308085\n",
       "total sulfur dioxide    138.360657\n",
       "density                   0.994027\n",
       "pH                        3.188267\n",
       "sulphates                 0.489847\n",
       "alcohol                  10.514267\n",
       "dtype: float64"
      ]
     },
     "execution_count": 43,
     "metadata": {},
     "output_type": "execute_result"
    }
   ],
   "source": [
    "Mean_wineQWhite"
   ]
  },
  {
   "cell_type": "code",
   "execution_count": 41,
   "id": "8739a496",
   "metadata": {},
   "outputs": [
    {
     "data": {
      "text/plain": [
       "fixed acidity            8.319637\n",
       "volatile acidity         0.527821\n",
       "citric acid              0.270976\n",
       "residual sugar           2.538806\n",
       "chlorides                0.087467\n",
       "free sulfur dioxide     15.874922\n",
       "total sulfur dioxide    46.467792\n",
       "density                  0.996747\n",
       "pH                       3.311113\n",
       "sulphates                0.658149\n",
       "alcohol                 10.422983\n",
       "dtype: float64"
      ]
     },
     "execution_count": 41,
     "metadata": {},
     "output_type": "execute_result"
    }
   ],
   "source": [
    "Mean_wineQRed"
   ]
  },
  {
   "cell_type": "code",
   "execution_count": 44,
   "id": "11b98da0",
   "metadata": {},
   "outputs": [],
   "source": [
    "WineQRed = winequality_red.drop('quality',axis=1)\n",
    "QualityRed=  winequality_red['quality']"
   ]
  },
  {
   "cell_type": "code",
   "execution_count": 45,
   "id": "cc129bf5",
   "metadata": {},
   "outputs": [],
   "source": [
    "WineQWhite = winequality_white.drop('quality',axis=1)\n",
    "QualityWhite= winequality_white['quality']"
   ]
  },
  {
   "cell_type": "markdown",
   "id": "e3fc653f",
   "metadata": {},
   "source": [
    "# 4.2"
   ]
  },
  {
   "cell_type": "code",
   "execution_count": 74,
   "id": "c855418d",
   "metadata": {},
   "outputs": [
    {
     "name": "stdout",
     "output_type": "stream",
     "text": [
      "The correlation coefficient for red wine quality:\n"
     ]
    },
    {
     "data": {
      "text/plain": [
       "fixed acidity           0.124052\n",
       "volatile acidity       -0.390558\n",
       "citric acid             0.226373\n",
       "residual sugar          0.013732\n",
       "chlorides              -0.128907\n",
       "free sulfur dioxide    -0.050656\n",
       "total sulfur dioxide   -0.185100\n",
       "density                -0.174919\n",
       "pH                     -0.057731\n",
       "sulphates               0.251397\n",
       "alcohol                 0.476166\n",
       "dtype: float64"
      ]
     },
     "execution_count": 74,
     "metadata": {},
     "output_type": "execute_result"
    }
   ],
   "source": [
    "correlation_coef=WineQRed.corrwith(QualityRed) \n",
    "print(f'The correlation coefficient for red wine quality:')\n",
    "correlation_coef"
   ]
  },
  {
   "cell_type": "code",
   "execution_count": 75,
   "id": "8801e454",
   "metadata": {},
   "outputs": [
    {
     "name": "stdout",
     "output_type": "stream",
     "text": [
      "The correlation coefficient for white wine quality:\n"
     ]
    },
    {
     "data": {
      "text/plain": [
       "fixed acidity          -0.113663\n",
       "volatile acidity       -0.194723\n",
       "citric acid            -0.009209\n",
       "residual sugar         -0.097577\n",
       "chlorides              -0.209934\n",
       "free sulfur dioxide     0.008158\n",
       "total sulfur dioxide   -0.174737\n",
       "density                -0.307123\n",
       "pH                      0.099427\n",
       "sulphates               0.053678\n",
       "alcohol                 0.435575\n",
       "dtype: float64"
      ]
     },
     "execution_count": 75,
     "metadata": {},
     "output_type": "execute_result"
    }
   ],
   "source": [
    "correlation_coef1=WineQWhite.corrwith(QualityWhite) \n",
    "print(f'The correlation coefficient for white wine quality:')\n",
    "correlation_coef1"
   ]
  },
  {
   "cell_type": "markdown",
   "id": "d297d5b8",
   "metadata": {},
   "source": [
    "alcohol is the most relevant because it has high correlation with quality"
   ]
  },
  {
   "cell_type": "markdown",
   "id": "b90d84aa",
   "metadata": {},
   "source": [
    "# 4.3"
   ]
  },
  {
   "cell_type": "markdown",
   "id": "eaf3ac29",
   "metadata": {},
   "source": [
    "#Red wine"
   ]
  },
  {
   "cell_type": "code",
   "execution_count": 58,
   "id": "e66f026d",
   "metadata": {},
   "outputs": [
    {
     "data": {
      "image/png": "[encoded data removed]",
      "text/plain": [
       "<Figure size 720x504 with 1 Axes>"
      ]
     },
     "metadata": {
      "needs_background": "light"
     },
     "output_type": "display_data"
    }
   ],
   "source": [
    "l1=[]\n",
    "l1e=[]\n",
    "list_of_maxdepth= np.arange(0.01, 10, 0.01)\n",
    "for i in list_of_maxdepth:  \n",
    "    LM = Lasso(alpha=i) #creating \n",
    "    LM = LM.fit(WineQRed,QualityRed) # train lASSO\n",
    "    ScoresL = abs(cross_val_score(LM, WineQRed ,QualityRed, cv = k_f, scoring='neg_mean_squared_error').mean())\n",
    "    l1.append(ScoresL)\n",
    "    coef=LM.coef_\n",
    "    l1e.append(coef)\n",
    "plt.figure(figsize=(10,7)) # size of the figure\n",
    "plt.xlabel(\"lambda values \")\n",
    "plt.ylabel(\"Mean squared error\")\n",
    "plt.title(\"The graph of mean squared error vs lambda values\")\n",
    "plt.semilogx(list_of_maxdepth,l1)\n",
    "plt.show()"
   ]
  },
  {
   "cell_type": "code",
   "execution_count": 56,
   "id": "fdbeadba",
   "metadata": {},
   "outputs": [
    {
     "data": {
      "image/png": "[encoded data removed]",
      "text/plain": [
       "<Figure size 864x576 with 1 Axes>"
      ]
     },
     "metadata": {
      "needs_background": "light"
     },
     "output_type": "display_data"
    }
   ],
   "source": [
    "plt.figure(figsize=(12,8)) # size of the figure\n",
    "plt.semilogx(list_of_maxdepth, l1e)\n",
    "plt.xlabel(\"lambda values\")\n",
    "plt.ylabel(\"Coefficient\")\n",
    "plt.title(\"The graph of coefficients values against the lambda values\")\n",
    "plt.legend(WineQRed.columns)\n",
    "plt.show()"
   ]
  },
  {
   "cell_type": "markdown",
   "id": "d012fe8e",
   "metadata": {},
   "source": [
    "based on the above figure, as the lambda values increases the features will be penalised till when all the parameter estimates will be zero. "
   ]
  },
  {
   "cell_type": "markdown",
   "id": "df088bf9",
   "metadata": {},
   "source": [
    "#White wine"
   ]
  },
  {
   "cell_type": "code",
   "execution_count": 90,
   "id": "f28643f0",
   "metadata": {},
   "outputs": [
    {
     "data": {
      "image/png": "[encoded data removed]",
      "text/plain": [
       "<Figure size 432x288 with 1 Axes>"
      ]
     },
     "metadata": {
      "needs_background": "light"
     },
     "output_type": "display_data"
    }
   ],
   "source": [
    "l11=[]\n",
    "l11e=[]\n",
    "list_of_maxdepth1= np.arange(0.01, 10, 0.01)\n",
    "for i in list_of_maxdepth1:  \n",
    "    LM1 = Lasso(alpha=i) #creating \n",
    "    LM1 = LM1.fit(WineQWhite,QualityWhite) # train lASSO\n",
    "    ScoresL1 = abs(cross_val_score(LM1, WineQWhite ,QualityWhite, cv = k_f, scoring='neg_mean_squared_error').mean())\n",
    "    l11.append(ScoresL1)\n",
    "    coef=LM1.coef_\n",
    "    l11e.append(coef)\n",
    "#plt.figure(figsize=(12,68)) # size of the figure\n",
    "plt.semilogx(list_of_maxdepth1,l11)\n",
    "plt.xlabel(\"lambda values \")\n",
    "plt.ylabel(\"Mean squared error\")\n",
    "plt.title(\"The graph of mean squared error vs lambda values\")\n",
    "plt.show()"
   ]
  },
  {
   "cell_type": "code",
   "execution_count": 86,
   "id": "84418c92",
   "metadata": {},
   "outputs": [
    {
     "data": {
      "image/png": "[encoded data removed]",
      "text/plain": [
       "<Figure size 864x576 with 1 Axes>"
      ]
     },
     "metadata": {
      "needs_background": "light"
     },
     "output_type": "display_data"
    }
   ],
   "source": [
    "plt.figure(figsize=(12,8)) # size of the figure\n",
    "plt.semilogx(list_of_maxdepth, l11e)\n",
    "plt.legend(WineQRed.columns)\n",
    "plt.xlabel(\"lambda values\")\n",
    "plt.ylabel(\"Coefficient\")\n",
    "plt.title(\"The graph of coefficients values against the lambda values\")\n",
    "plt.show()"
   ]
  },
  {
   "cell_type": "code",
   "execution_count": 78,
   "id": "b45a9c92",
   "metadata": {},
   "outputs": [
    {
     "data": {
      "text/plain": [
       "[('fixed acidity', 0.03447914030187799),\n",
       " ('volatile acidity', -0.8564562880418891),\n",
       " ('citric acid', 0.0),\n",
       " ('residual sugar', 0.0),\n",
       " ('chlorides', -0.0),\n",
       " ('free sulfur dioxide', 0.005089901210329606),\n",
       " ('total sulfur dioxide', -0.0031077512882979694),\n",
       " ('density', -0.0),\n",
       " ('pH', -0.0),\n",
       " ('sulphates', 0.37903426677244856),\n",
       " ('alcohol', 0.304490276505546)]"
      ]
     },
     "execution_count": 78,
     "metadata": {},
     "output_type": "execute_result"
    }
   ],
   "source": [
    "LassoM = Lasso(alpha=0.01) #creating \n",
    "LassoM = LassoM.fit(WineQRed,QualityRed) #train lASSO\n",
    "coef1=LassoM.coef_\n",
    "param=LassoM.feature_names_in_\n",
    "listCoef=list(zip(param, coef1))\n",
    "listCoef"
   ]
  },
  {
   "cell_type": "markdown",
   "id": "6ed4e876",
   "metadata": {},
   "source": [
    "The selected predictors are those with values which is different from zero."
   ]
  },
  {
   "cell_type": "markdown",
   "id": "6eb5b65d",
   "metadata": {},
   "source": [
    "# 4.4"
   ]
  },
  {
   "cell_type": "code",
   "execution_count": 59,
   "id": "ed763f87",
   "metadata": {},
   "outputs": [
    {
     "data": {
      "text/html": [
       "<div>\n",
       "<style scoped>\n",
       "    .dataframe tbody tr th:only-of-type {\n",
       "        vertical-align: middle;\n",
       "    }\n",
       "\n",
       "    .dataframe tbody tr th {\n",
       "        vertical-align: top;\n",
       "    }\n",
       "\n",
       "    .dataframe thead th {\n",
       "        text-align: right;\n",
       "    }\n",
       "</style>\n",
       "<table border=\"1\" class=\"dataframe\">\n",
       "  <thead>\n",
       "    <tr style=\"text-align: right;\">\n",
       "      <th></th>\n",
       "      <th>fixed acidity</th>\n",
       "      <th>volatile acidity</th>\n",
       "      <th>free sulfur dioxide</th>\n",
       "      <th>total sulfur dioxide</th>\n",
       "      <th>sulphates</th>\n",
       "      <th>alcohol</th>\n",
       "    </tr>\n",
       "  </thead>\n",
       "  <tbody>\n",
       "    <tr>\n",
       "      <th>0</th>\n",
       "      <td>7.4</td>\n",
       "      <td>0.700</td>\n",
       "      <td>11.0</td>\n",
       "      <td>34.0</td>\n",
       "      <td>0.56</td>\n",
       "      <td>9.4</td>\n",
       "    </tr>\n",
       "    <tr>\n",
       "      <th>1</th>\n",
       "      <td>7.8</td>\n",
       "      <td>0.880</td>\n",
       "      <td>25.0</td>\n",
       "      <td>67.0</td>\n",
       "      <td>0.68</td>\n",
       "      <td>9.8</td>\n",
       "    </tr>\n",
       "    <tr>\n",
       "      <th>2</th>\n",
       "      <td>7.8</td>\n",
       "      <td>0.760</td>\n",
       "      <td>15.0</td>\n",
       "      <td>54.0</td>\n",
       "      <td>0.65</td>\n",
       "      <td>9.8</td>\n",
       "    </tr>\n",
       "    <tr>\n",
       "      <th>3</th>\n",
       "      <td>11.2</td>\n",
       "      <td>0.280</td>\n",
       "      <td>17.0</td>\n",
       "      <td>60.0</td>\n",
       "      <td>0.58</td>\n",
       "      <td>9.8</td>\n",
       "    </tr>\n",
       "    <tr>\n",
       "      <th>4</th>\n",
       "      <td>7.4</td>\n",
       "      <td>0.700</td>\n",
       "      <td>11.0</td>\n",
       "      <td>34.0</td>\n",
       "      <td>0.56</td>\n",
       "      <td>9.4</td>\n",
       "    </tr>\n",
       "    <tr>\n",
       "      <th>...</th>\n",
       "      <td>...</td>\n",
       "      <td>...</td>\n",
       "      <td>...</td>\n",
       "      <td>...</td>\n",
       "      <td>...</td>\n",
       "      <td>...</td>\n",
       "    </tr>\n",
       "    <tr>\n",
       "      <th>1594</th>\n",
       "      <td>6.2</td>\n",
       "      <td>0.600</td>\n",
       "      <td>32.0</td>\n",
       "      <td>44.0</td>\n",
       "      <td>0.58</td>\n",
       "      <td>10.5</td>\n",
       "    </tr>\n",
       "    <tr>\n",
       "      <th>1595</th>\n",
       "      <td>5.9</td>\n",
       "      <td>0.550</td>\n",
       "      <td>39.0</td>\n",
       "      <td>51.0</td>\n",
       "      <td>0.76</td>\n",
       "      <td>11.2</td>\n",
       "    </tr>\n",
       "    <tr>\n",
       "      <th>1596</th>\n",
       "      <td>6.3</td>\n",
       "      <td>0.510</td>\n",
       "      <td>29.0</td>\n",
       "      <td>40.0</td>\n",
       "      <td>0.75</td>\n",
       "      <td>11.0</td>\n",
       "    </tr>\n",
       "    <tr>\n",
       "      <th>1597</th>\n",
       "      <td>5.9</td>\n",
       "      <td>0.645</td>\n",
       "      <td>32.0</td>\n",
       "      <td>44.0</td>\n",
       "      <td>0.71</td>\n",
       "      <td>10.2</td>\n",
       "    </tr>\n",
       "    <tr>\n",
       "      <th>1598</th>\n",
       "      <td>6.0</td>\n",
       "      <td>0.310</td>\n",
       "      <td>18.0</td>\n",
       "      <td>42.0</td>\n",
       "      <td>0.66</td>\n",
       "      <td>11.0</td>\n",
       "    </tr>\n",
       "  </tbody>\n",
       "</table>\n",
       "<p>1599 rows × 6 columns</p>\n",
       "</div>"
      ],
      "text/plain": [
       "      fixed acidity  volatile acidity  free sulfur dioxide  \\\n",
       "0               7.4             0.700                 11.0   \n",
       "1               7.8             0.880                 25.0   \n",
       "2               7.8             0.760                 15.0   \n",
       "3              11.2             0.280                 17.0   \n",
       "4               7.4             0.700                 11.0   \n",
       "...             ...               ...                  ...   \n",
       "1594            6.2             0.600                 32.0   \n",
       "1595            5.9             0.550                 39.0   \n",
       "1596            6.3             0.510                 29.0   \n",
       "1597            5.9             0.645                 32.0   \n",
       "1598            6.0             0.310                 18.0   \n",
       "\n",
       "      total sulfur dioxide  sulphates  alcohol  \n",
       "0                     34.0       0.56      9.4  \n",
       "1                     67.0       0.68      9.8  \n",
       "2                     54.0       0.65      9.8  \n",
       "3                     60.0       0.58      9.8  \n",
       "4                     34.0       0.56      9.4  \n",
       "...                    ...        ...      ...  \n",
       "1594                  44.0       0.58     10.5  \n",
       "1595                  51.0       0.76     11.2  \n",
       "1596                  40.0       0.75     11.0  \n",
       "1597                  44.0       0.71     10.2  \n",
       "1598                  42.0       0.66     11.0  \n",
       "\n",
       "[1599 rows x 6 columns]"
      ]
     },
     "execution_count": 59,
     "metadata": {},
     "output_type": "execute_result"
    }
   ],
   "source": [
    "S_predict=WineQRed[['fixed acidity', 'volatile acidity', 'free sulfur dioxide', 'total sulfur dioxide', 'sulphates', 'alcohol']]\n",
    "S_predict"
   ]
  },
  {
   "cell_type": "code",
   "execution_count": 60,
   "id": "def467e3",
   "metadata": {},
   "outputs": [
    {
     "name": "stdout",
     "output_type": "stream",
     "text": [
      "{'n_neighbors': 18}\n"
     ]
    }
   ],
   "source": [
    "#define parameter range \n",
    "par_grid = {'n_neighbors': np.arange(1,31)}  \n",
    " \n",
    "nghbr1 = KNeighborsRegressor()\n",
    "\n",
    "grid = GridSearchCV(nghbr1, par_grid) \n",
    "   \n",
    "#fitting the model for grid search \n",
    "grid.fit(S_predict, QualityRed)\n",
    "# print best parameter\n",
    "print(grid.best_params_) "
   ]
  },
  {
   "cell_type": "markdown",
   "id": "c057127c",
   "metadata": {},
   "source": [
    "# 4.5"
   ]
  },
  {
   "cell_type": "code",
   "execution_count": 66,
   "id": "fb9487f6",
   "metadata": {},
   "outputs": [
    {
     "name": "stdout",
     "output_type": "stream",
     "text": [
      "The mean squared error(MSE) is: 0.545135710264772\n"
     ]
    }
   ],
   "source": [
    "nghbr2 = KNeighborsRegressor(n_neighbors=18)\n",
    "nghbr2=nghbr2.fit(S_predict, QualityRed)\n",
    "ScoresList1 = abs(cross_val_score(nghbr2, S_predict, QualityRed, cv = k_f, scoring='neg_mean_squared_error').mean())\n",
    "print(f'The mean squared error(MSE) is: {ScoresList1}')"
   ]
  },
  {
   "cell_type": "code",
   "execution_count": 67,
   "id": "7a03e60d",
   "metadata": {},
   "outputs": [
    {
     "name": "stdout",
     "output_type": "stream",
     "text": [
      "The R_squared is: 0.1613461227108658\n"
     ]
    }
   ],
   "source": [
    "ScoresList1 = abs(cross_val_score(nghbr2, S_predict, QualityRed, cv = k_f, scoring='r2').mean())\n",
    "print(f'The R_squared is: {ScoresList1}')"
   ]
  },
  {
   "cell_type": "code",
   "execution_count": 69,
   "id": "ba1986c7",
   "metadata": {},
   "outputs": [
    {
     "name": "stdout",
     "output_type": "stream",
     "text": [
      "                            OLS Regression Results                            \n",
      "==============================================================================\n",
      "Dep. Variable:                quality   R-squared:                       0.348\n",
      "Model:                            OLS   Adj. R-squared:                  0.345\n",
      "Method:                 Least Squares   F-statistic:                     141.3\n",
      "Date:                Mon, 21 Nov 2022   Prob (F-statistic):          9.15e-144\n",
      "Time:                        20:08:06   Log-Likelihood:                -1585.2\n",
      "No. Observations:                1599   AIC:                             3184.\n",
      "Df Residuals:                    1592   BIC:                             3222.\n",
      "Df Model:                           6                                         \n",
      "Covariance Type:            nonrobust                                         \n",
      "========================================================================================\n",
      "                           coef    std err          t      P>|t|      [0.025      0.975]\n",
      "----------------------------------------------------------------------------------------\n",
      "const                    2.5383      0.231     10.979      0.000       2.085       2.992\n",
      "fixed acidity            0.0247      0.010      2.458      0.014       0.005       0.044\n",
      "volatile acidity        -1.1283      0.100    -11.333      0.000      -1.324      -0.933\n",
      "free sulfur dioxide      0.0044      0.002      2.071      0.039       0.000       0.009\n",
      "total sulfur dioxide    -0.0030      0.001     -4.404      0.000      -0.004      -0.002\n",
      "sulphates                0.6756      0.101      6.667      0.000       0.477       0.874\n",
      "alcohol                  0.2987      0.016     18.427      0.000       0.267       0.331\n",
      "==============================================================================\n",
      "Omnibus:                       31.646   Durbin-Watson:                   1.760\n",
      "Prob(Omnibus):                  0.000   Jarque-Bera (JB):               50.866\n",
      "Skew:                          -0.170   Prob(JB):                     9.01e-12\n",
      "Kurtosis:                       3.805   Cond. No.                         886.\n",
      "==============================================================================\n",
      "\n",
      "Notes:\n",
      "[1] Standard Errors assume that the covariance matrix of the errors is correctly specified.\n"
     ]
    }
   ],
   "source": [
    "#Making an OLS model\n",
    "x1=sm.add_constant(S_predict)\n",
    "regressor_OLS = sm.OLS(QualityRed,x1).fit() #fitting the variables in the OLS model\n",
    "print(regressor_OLS.summary()) #summary of the history"
   ]
  },
  {
   "cell_type": "code",
   "execution_count": 65,
   "id": "8484de89",
   "metadata": {},
   "outputs": [
    {
     "data": {
      "text/plain": [
       "0       5.063337\n",
       "1       5.032702\n",
       "2       5.143007\n",
       "3       5.711838\n",
       "4       5.063337\n",
       "          ...   \n",
       "1594    5.551085\n",
       "1595    5.940546\n",
       "1596    5.918179\n",
       "1597    5.491124\n",
       "1598    6.021059\n",
       "Length: 1599, dtype: float64"
      ]
     },
     "execution_count": 65,
     "metadata": {},
     "output_type": "execute_result"
    }
   ],
   "source": [
    "ypredicted =regressor_OLS.predict(x1)\n",
    "ypredicted"
   ]
  },
  {
   "cell_type": "code",
   "execution_count": 80,
   "id": "c8cc65dd",
   "metadata": {},
   "outputs": [
    {
     "name": "stdout",
     "output_type": "stream",
     "text": [
      "[5.06333701 5.03270192 5.14300699 ... 5.91817931 5.49112395 6.02105912]\n"
     ]
    }
   ],
   "source": [
    "mdl = LinearRegression().fit(S_predict, QualityRed) # Linear Regression Model\n",
    "ypredicted=mdl.predict(S_predict)\n",
    "print(f'{ypredicted}')"
   ]
  },
  {
   "cell_type": "code",
   "execution_count": 70,
   "id": "e087732c",
   "metadata": {},
   "outputs": [
    {
     "name": "stdout",
     "output_type": "stream",
     "text": [
      "The MSE of Linear Model is:0.4252352692407322\n"
     ]
    }
   ],
   "source": [
    "print(f'The MSE of Linear Model is:{mean_squared_error(QualityRed, ypredicted)}')"
   ]
  },
  {
   "cell_type": "code",
   "execution_count": 71,
   "id": "ead3fc54",
   "metadata": {},
   "outputs": [
    {
     "name": "stdout",
     "output_type": "stream",
     "text": [
      "The R_sqaured of the linear model is:0.3475590446897766\n"
     ]
    }
   ],
   "source": [
    "print(f'The R_sqaured of the linear model is:{regressor_OLS.rsquared}')"
   ]
  },
  {
   "cell_type": "code",
   "execution_count": null,
   "id": "c62cd9b1",
   "metadata": {},
   "outputs": [],
   "source": []
  }
 ],
 "metadata": {
  "kernelspec": {
   "display_name": "Python 3 (ipykernel)",
   "language": "python",
   "name": "python3"
  },
  "language_info": {
   "codemirror_mode": {
    "name": "ipython",
    "version": 3
   },
   "file_extension": ".py",
   "mimetype": "text/x-python",
   "name": "python",
   "nbconvert_exporter": "python",
   "pygments_lexer": "ipython3",
   "version": "3.9.13"
  }
 },
 "nbformat": 4,
 "nbformat_minor": 5
}
